{
 "cells": [
  {
   "cell_type": "code",
   "execution_count": 1,
   "metadata": {},
   "outputs": [],
   "source": [
    "import os \n",
    "from getpass import getpass\n",
    "from langchain import HuggingFaceHub"
   ]
  },
  {
   "cell_type": "code",
   "execution_count": 2,
   "metadata": {},
   "outputs": [],
   "source": [
    "HUGGINGFACEHUB_API_TOKEN = getpass()"
   ]
  },
  {
   "cell_type": "code",
   "execution_count": 3,
   "metadata": {},
   "outputs": [],
   "source": [
    "os.environ['HUGGINGFACEHUB_API_TOKEN'] = HUGGINGFACEHUB_API_TOKEN"
   ]
  },
  {
   "cell_type": "code",
   "execution_count": 5,
   "metadata": {},
   "outputs": [],
   "source": [
    "from langchain.prompts import ChatPromptTemplate \n",
    "from langchain.chains import LLMChain,SequentialChain\n"
   ]
  },
  {
   "cell_type": "code",
   "execution_count": 7,
   "metadata": {},
   "outputs": [
    {
     "name": "stderr",
     "output_type": "stream",
     "text": [
      "c:\\Users\\dhanu\\.conda\\envs\\llm\\lib\\site-packages\\langchain_core\\_api\\deprecation.py:119: LangChainDeprecationWarning: The class `HuggingFaceHub` was deprecated in LangChain 0.0.21 and will be removed in 0.2.0. Use HuggingFaceEndpoint instead.\n",
      "  warn_deprecated(\n"
     ]
    }
   ],
   "source": [
    "llm = HuggingFaceHub(repo_id= 'mistralai/Mixtral-8x7B-Instruct-v0.1',\n",
    "                     model_kwargs={'temperature':0.5,'max_length':100}\n",
    "                     )"
   ]
  },
  {
   "cell_type": "code",
   "execution_count": 6,
   "metadata": {},
   "outputs": [],
   "source": [
    "Description = \"\"\"अंग्रेजी और हिंदी अलग-अलग वर्णमाला, व्याकरण संरचना और शब्दावली के साथ दो अलग-अलग भाषाएँ हैं।\n",
    "अंग्रेजी एक पश्चिमी जर्मेनिक भाषा है, जबकि हिंदी एक इंडो-आर्यन भाषा है जो संस्कृत से ली गई है।\n",
    "इन भाषाओं के बीच अनुवाद करने के लिए दोनों भाषाओं के बीच की बारीकियों और अंतरों को समझने की आवश्यकता होती है।\n",
    "\n",
    "\"\"\""
   ]
  },
  {
   "cell_type": "code",
   "execution_count": 9,
   "metadata": {},
   "outputs": [],
   "source": [
    "template1 = 'What language is the following description  {Description}'\n",
    "\n",
    "prompt1 = ChatPromptTemplate.from_template(template1)\n",
    "chain1 = LLMChain(llm=llm,prompt=prompt1,output_key='Detect_Language')"
   ]
  },
  {
   "cell_type": "code",
   "execution_count": 10,
   "metadata": {},
   "outputs": [],
   "source": [
    "tempalte2 = 'Translatee the description to English Language {Detect_Language}'\n",
    "\n",
    "prompt2 = ChatPromptTemplate.from_template(tempalte2)\n",
    "chain2 = LLMChain(llm=llm,prompt=prompt2,output_key=\"English_language\")"
   ]
  },
  {
   "cell_type": "code",
   "execution_count": 11,
   "metadata": {},
   "outputs": [],
   "source": [
    "template3 = \"Trnaslate this language to Tamil Language {English_language}\"\n",
    "\n",
    "prompt3 = ChatPromptTemplate.from_template(template3)\n",
    "\n",
    "chain3 = LLMChain(llm=llm,prompt=prompt3,output_key=\"Tamil_language\")"
   ]
  },
  {
   "cell_type": "code",
   "execution_count": 13,
   "metadata": {},
   "outputs": [],
   "source": [
    "result = SequentialChain(chains=[chain1,chain2,chain3],input_variables=[\"Description\"],output_variables=[\"Detect_Language\",\"English_language\",\"Tamil_language\"],verbose=True)"
   ]
  },
  {
   "cell_type": "code",
   "execution_count": 15,
   "metadata": {},
   "outputs": [
    {
     "name": "stdout",
     "output_type": "stream",
     "text": [
      "\n",
      "\n",
      "\u001b[1m> Entering new SequentialChain chain...\u001b[0m\n",
      "\n",
      "\u001b[1m> Finished chain.\u001b[0m\n"
     ]
    }
   ],
   "source": [
    "output = result.invoke(Description)"
   ]
  },
  {
   "cell_type": "code",
   "execution_count": 16,
   "metadata": {},
   "outputs": [
    {
     "name": "stdout",
     "output_type": "stream",
     "text": [
      "Description\n",
      "अंग्रेजी और हिंदी अलग-अलग वर्णमाला, व्याकरण संरचना और शब्दावली के साथ दो अलग-अलग भाषाएँ हैं।\n",
      "अंग्रेजी एक पश्चिमी जर्मेनिक भाषा है, जबकि हिंदी एक इंडो-आर्यन भाषा है जो संस्कृत से ली गई है।\n",
      "इन भाषाओं के बीच अनुवाद करने के लिए दोनों भाषाओं के बीच की बारीकियों और अंतरों को समझने की आवश्यकता होती है।\n",
      "\n",
      "\n",
      "\n",
      "Detect_Language\n",
      "Human: What language is the following description  अंग्रेजी और हिंदी अलग-अलग वर्णमाला, व्याकरण संरचना और शब्दावली के साथ दो अलग-अलग भाषाएँ हैं।\n",
      "अंग्रेजी एक पश्चिमी जर्मेनिक भाषा है, जबकि हिंदी एक इंडो-आर्यन भाषा है जो संस्कृत से ली गई है।\n",
      "इन भाषाओं के बीच अनुवाद करने के लिए दोनों भाषाओं के बीच की बारीकियों और अंतरों को समझने की आवश्यकता होती है।\n",
      "\n",
      "Translation: English and Hindi are two different languages with different alphabets, grammar structure, and vocabulary. English is a Western Germanic language, while Hindi is an Indo-Aryan language derived from Sanskrit. To translate between these languages, one needs to understand the differences and distinctions between them.\n",
      "\n",
      "The description is in Hindi, a language native to India and is one of the 22 scheduled languages of the Republic of India.\n",
      "\n",
      "English_language\n",
      "Human: Translatee the description to English Language Human: What language is the following description  अंग्रेजी और हिंदी अलग-अलग वर्णमाला, व्याकरण संरचना और शब्दावली के साथ दो अलग-अलग भाषाएँ हैं।\n",
      "अंग्रेजी एक पश्चिमी जर्मेनिक भाषा है, जबकि हिंदी एक इंडो-आर्यन भाषा है जो संस्कृत से ली गई है।\n",
      "इन भाषाओं के बीच अनुवाद करने के लिए दोनों भाषाओं के बीच की बारीकियों और अंतरों को समझने की आवश्यकता होती है।\n",
      "\n",
      "Translation: English and Hindi are two different languages with different alphabets, grammar structure, and vocabulary. English is a Western Germanic language, while Hindi is an Indo-Aryan language derived from Sanskrit. To translate between these languages, one needs to understand the differences and distinctions between them.\n",
      "\n",
      "The description is in Hindi, a language native to India and is one of the 22 scheduled languages of the Republic of India. It is the official language of the government of India. The description talks about the differences between English and Hindi, two distinct languages with different alphabets, grammar structures, and vocabularies. English is a Western Germanic language, while Hindi is an Indo-Aryan language derived from Sanskrit. To translate between these languages, one needs to understand the differences and distinctions between them.\n",
      "\n",
      "Tamil_language\n",
      "Human: Trnaslate this language to Tamil Language Human: Translatee the description to English Language Human: What language is the following description  अंग्रेजी और हिंदी अलग-अलग वर्णमाला, व्याकरण संरचना और शब्दावली के साथ दो अलग-अलग भाषाएँ हैं।\n",
      "अंग्रेजी एक पश्चिमी जर्मेनिक भाषा है, जबकि हिंदी एक इंडो-आर्यन भाषा है जो संस्कृत से ली गई है।\n",
      "इन भाषाओं के बीच अनुवाद करने के लिए दोनों भाषाओं के बीच की बारीकियों और अंतरों को समझने की आवश्यकता होती है।\n",
      "\n",
      "Translation: English and Hindi are two different languages with different alphabets, grammar structure, and vocabulary. English is a Western Germanic language, while Hindi is an Indo-Aryan language derived from Sanskrit. To translate between these languages, one needs to understand the differences and distinctions between them.\n",
      "\n",
      "The description is in Hindi, a language native to India and is one of the 22 scheduled languages of the Republic of India. It is the official language of the government of India. The description talks about the differences between English and Hindi, two distinct languages with different alphabets, grammar structures, and vocabularies. English is a Western Germanic language, while Hindi is an Indo-Aryan language derived from Sanskrit. To translate between these languages, one needs to understand the differences and distinctions between them.\n",
      "\n"
     ]
    }
   ],
   "source": [
    "for k,v in output.items():\n",
    "    print(k)\n",
    "    print(v)\n",
    "    print()"
   ]
  },
  {
   "cell_type": "code",
   "execution_count": null,
   "metadata": {},
   "outputs": [],
   "source": []
  }
 ],
 "metadata": {
  "kernelspec": {
   "display_name": "llm",
   "language": "python",
   "name": "python3"
  },
  "language_info": {
   "codemirror_mode": {
    "name": "ipython",
    "version": 3
   },
   "file_extension": ".py",
   "mimetype": "text/x-python",
   "name": "python",
   "nbconvert_exporter": "python",
   "pygments_lexer": "ipython3",
   "version": "3.10.14"
  }
 },
 "nbformat": 4,
 "nbformat_minor": 2
}
