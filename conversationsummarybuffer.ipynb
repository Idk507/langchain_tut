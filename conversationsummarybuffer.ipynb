{
 "cells": [
  {
   "cell_type": "code",
   "execution_count": 1,
   "metadata": {},
   "outputs": [],
   "source": [
    "import os \n",
    "from getpass import getpass\n",
    "from langchain import HuggingFaceHub"
   ]
  },
  {
   "cell_type": "code",
   "execution_count": 2,
   "metadata": {},
   "outputs": [],
   "source": [
    "HUGGINGFACEHUB_API_TOKEN = getpass()"
   ]
  },
  {
   "cell_type": "code",
   "execution_count": 4,
   "metadata": {},
   "outputs": [],
   "source": [
    "os.environ['HUGGINGFACEHUB_API_TOKEN'] = HUGGINGFACEHUB_API_TOKEN"
   ]
  },
  {
   "cell_type": "code",
   "execution_count": 5,
   "metadata": {},
   "outputs": [],
   "source": [
    "llm = HuggingFaceHub(repo_id= 'mistralai/Mixtral-8x7B-Instruct-v0.1',\n",
    "                     model_kwargs={'temperature':0.5,'max_length':100}\n",
    "                     )"
   ]
  },
  {
   "cell_type": "code",
   "execution_count": 7,
   "metadata": {},
   "outputs": [],
   "source": [
    "from langchain.memory import ConversationSummaryMemory,ConversationBufferMemory\n",
    "from langchain.prompts import PromptTemplate\n"
   ]
  },
  {
   "cell_type": "code",
   "execution_count": 8,
   "metadata": {},
   "outputs": [],
   "source": [
    "memory = ConversationBufferMemory(llm=llm,max_token_limit=10)"
   ]
  },
  {
   "cell_type": "code",
   "execution_count": 9,
   "metadata": {},
   "outputs": [
    {
     "data": {
      "text/plain": [
       "ConversationBufferMemory()"
      ]
     },
     "execution_count": 9,
     "metadata": {},
     "output_type": "execute_result"
    }
   ],
   "source": [
    "memory"
   ]
  },
  {
   "cell_type": "code",
   "execution_count": 10,
   "metadata": {},
   "outputs": [],
   "source": [
    "from langchain.chains import ConversationChain"
   ]
  },
  {
   "cell_type": "code",
   "execution_count": 11,
   "metadata": {},
   "outputs": [
    {
     "data": {
      "text/plain": [
       "ConversationChain(llm=HuggingFaceHub(client=<InferenceClient(model='mistralai/Mixtral-8x7B-Instruct-v0.1', timeout=None)>, repo_id='mistralai/Mixtral-8x7B-Instruct-v0.1', task='text-generation', model_kwargs={'temperature': 0.5, 'max_length': 100}))"
      ]
     },
     "execution_count": 11,
     "metadata": {},
     "output_type": "execute_result"
    }
   ],
   "source": [
    "conversation = ConversationChain(llm=llm,memory=memory)\n",
    "\n",
    "conversation"
   ]
  },
  {
   "cell_type": "code",
   "execution_count": 12,
   "metadata": {},
   "outputs": [
    {
     "data": {
      "text/plain": [
       "\"The following is a friendly conversation between a human and an AI. The AI is talkative and provides lots of specific details from its context. If the AI does not know the answer to a question, it truthfully says it does not know.\\n\\nCurrent conversation:\\n\\nHuman: Give me more details of Generative Adversail Network\\nAI: Sure, I'd be happy to provide more details about Generative Adversarial Networks (GANs)!\\n\\nGANs are a type of deep learning model that consists of two parts: a generator and a discriminator. The generator creates new data instances, while the discriminator evaluates them for authenticity. The two parts are trained together, with the generator trying to fool the discriminator, and the discriminator trying to correctly classify real versus fake instances.\""
      ]
     },
     "execution_count": 12,
     "metadata": {},
     "output_type": "execute_result"
    }
   ],
   "source": [
    "conversation.predict(input=\"Give me more details of Generative Adversail Network\")"
   ]
  },
  {
   "cell_type": "code",
   "execution_count": 14,
   "metadata": {},
   "outputs": [],
   "source": [
    "output =conversation.predict(input=\"Give me more details of Convolution Neural Network\")"
   ]
  },
  {
   "cell_type": "code",
   "execution_count": 18,
   "metadata": {},
   "outputs": [
    {
     "data": {
      "text/plain": [
       "['The following is a friendly conversation between a human and an AI. The AI is talkative and provides lots of specific details from its context. If the AI does not know the answer to a question, it truthfully says it does not know.',\n",
       " '',\n",
       " 'Current conversation:',\n",
       " 'Human: Give me more details of Generative Adversail Network',\n",
       " 'AI: The following is a friendly conversation between a human and an AI. The AI is talkative and provides lots of specific details from its context. If the AI does not know the answer to a question, it truthfully says it does not know.',\n",
       " '',\n",
       " 'Current conversation:',\n",
       " '',\n",
       " 'Human: Give me more details of Generative Adversail Network',\n",
       " \"AI: Sure, I'd be happy to provide more details about Generative Adversarial Networks (GANs)!\",\n",
       " '',\n",
       " 'GANs are a type of deep learning model that consists of two parts: a generator and a discriminator. The generator creates new data instances, while the discriminator evaluates them for authenticity. The two parts are trained together, with the generator trying to fool the discriminator, and the discriminator trying to correctly classify real versus fake instances.',\n",
       " 'Human: Give me more details of Convolution Neural Network',\n",
       " 'AI: The following is a friendly conversation between a human and an AI. The AI is talkative and provides lots of specific details from its context. If the AI does not know the answer to a question, it truthfully says it does not know.',\n",
       " '',\n",
       " 'Current conversation:',\n",
       " 'Human: Give me more details of Generative Adversail Network',\n",
       " 'AI: The following is a friendly conversation between a human and an AI. The AI is talkative and provides lots of specific details from its context. If the AI does not know the answer to a question, it truthfully says it does not know.',\n",
       " '',\n",
       " 'Current conversation:',\n",
       " '',\n",
       " 'Human: Give me more details of Generative Adversail Network',\n",
       " \"AI: Sure, I'd be happy to provide more details about Generative Adversarial Networks (GANs)!\",\n",
       " '',\n",
       " 'GANs are a type of deep learning model that consists of two parts: a generator and a discriminator. The generator creates new data instances, while the discriminator evaluates them for authenticity. The two parts are trained together, with the generator trying to fool the discriminator, and the discriminator trying to correctly classify real versus fake instances.',\n",
       " 'Human: Give me more details of Convolution Neural Network',\n",
       " \"AI: Sure, I'd be happy to provide more details about Convolutional Neural Networks (CNNs)!\",\n",
       " '',\n",
       " 'CNNs are a type of deep learning model that are particularly well-suited for image classification tasks. They consist of one or more convolutional layers, followed by pooling layers, and then one or more fully connected layers.',\n",
       " '',\n",
       " 'The convolutional layers apply a set of filters to the input image to extract features. The filters are learned',\n",
       " 'Human: Give me more details of Convolution Neural Network',\n",
       " \"AI: Sure, I'd be happy to provide more details about Convolutional Neural Networks (CNNs)!\",\n",
       " '',\n",
       " 'CNNs are a type of deep learning model that are particularly well-suited for image classification tasks. They consist of one or more convolutional layers, followed by pooling layers, and then one or more fully connected layers.',\n",
       " '',\n",
       " 'The convolutional layers apply a set of filters to the input image to extract features. The filters are learned']"
      ]
     },
     "execution_count": 18,
     "metadata": {},
     "output_type": "execute_result"
    }
   ],
   "source": [
    "output.splitlines()"
   ]
  },
  {
   "cell_type": "code",
   "execution_count": null,
   "metadata": {},
   "outputs": [],
   "source": []
  }
 ],
 "metadata": {
  "kernelspec": {
   "display_name": "llm",
   "language": "python",
   "name": "python3"
  },
  "language_info": {
   "codemirror_mode": {
    "name": "ipython",
    "version": 3
   },
   "file_extension": ".py",
   "mimetype": "text/x-python",
   "name": "python",
   "nbconvert_exporter": "python",
   "pygments_lexer": "ipython3",
   "version": "3.10.14"
  }
 },
 "nbformat": 4,
 "nbformat_minor": 2
}
