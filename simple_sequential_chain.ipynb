{
 "cells": [
  {
   "cell_type": "markdown",
   "metadata": {},
   "source": [
    "# Simple Sequential chain \n",
    "\n",
    "* There are two types of sequential chains:\n",
    "* Simple Sequential Chains ,which handles a single input and output and sequentia; chain,manage multiple inputs and output simultaneously"
   ]
  },
  {
   "cell_type": "code",
   "execution_count": 2,
   "metadata": {},
   "outputs": [],
   "source": [
    "import os \n",
    "from getpass import getpass\n",
    "from langchain import HuggingFaceHub"
   ]
  },
  {
   "cell_type": "code",
   "execution_count": 3,
   "metadata": {},
   "outputs": [],
   "source": [
    "HUGGINGFACEHUB_API_TOKEN = getpass()"
   ]
  },
  {
   "cell_type": "code",
   "execution_count": 4,
   "metadata": {},
   "outputs": [],
   "source": [
    "os.environ['HUGGINGFACEHUB_API_TOKEN'] = HUGGINGFACEHUB_API_TOKEN"
   ]
  },
  {
   "cell_type": "code",
   "execution_count": 5,
   "metadata": {},
   "outputs": [],
   "source": [
    "from langchain.vectorstores  import Chroma"
   ]
  },
  {
   "cell_type": "code",
   "execution_count": 6,
   "metadata": {},
   "outputs": [
    {
     "name": "stderr",
     "output_type": "stream",
     "text": [
      "c:\\Users\\dhanu\\.conda\\envs\\llm\\lib\\site-packages\\langchain_core\\_api\\deprecation.py:119: LangChainDeprecationWarning: The class `HuggingFaceHub` was deprecated in LangChain 0.0.21 and will be removed in 0.2.0. Use HuggingFaceEndpoint instead.\n",
      "  warn_deprecated(\n"
     ]
    }
   ],
   "source": [
    "llm = HuggingFaceHub(repo_id= 'mistralai/Mixtral-8x7B-Instruct-v0.1',\n",
    "                     model_kwargs={'temperature':0.5,'max_length':100}\n",
    "                     )"
   ]
  },
  {
   "cell_type": "code",
   "execution_count": 7,
   "metadata": {},
   "outputs": [],
   "source": [
    "from langchain.prompts import PromptTemplate \n",
    "from langchain.chains import LLMChain,SimpleSequentialChain"
   ]
  },
  {
   "cell_type": "code",
   "execution_count": 8,
   "metadata": {},
   "outputs": [],
   "source": [
    "template = 'What are the most popular city in {country} for education?'"
   ]
  },
  {
   "cell_type": "code",
   "execution_count": 9,
   "metadata": {},
   "outputs": [],
   "source": [
    "first_prompt = PromptTemplate(input_variables=['country'],template=template)"
   ]
  },
  {
   "cell_type": "code",
   "execution_count": 10,
   "metadata": {},
   "outputs": [
    {
     "data": {
      "text/plain": [
       "PromptTemplate(input_variables=['country'], template='What are the most popular city in {country} for education?')"
      ]
     },
     "execution_count": 10,
     "metadata": {},
     "output_type": "execute_result"
    }
   ],
   "source": [
    "first_prompt"
   ]
  },
  {
   "cell_type": "code",
   "execution_count": 11,
   "metadata": {},
   "outputs": [],
   "source": [
    "chain_one  = LLMChain(llm=llm,prompt=first_prompt)"
   ]
  },
  {
   "cell_type": "code",
   "execution_count": 12,
   "metadata": {},
   "outputs": [
    {
     "data": {
      "text/plain": [
       "LLMChain(prompt=PromptTemplate(input_variables=['country'], template='What are the most popular city in {country} for education?'), llm=HuggingFaceHub(client=<InferenceClient(model='mistralai/Mixtral-8x7B-Instruct-v0.1', timeout=None)>, repo_id='mistralai/Mixtral-8x7B-Instruct-v0.1', task='text-generation', model_kwargs={'temperature': 0.5, 'max_length': 100}))"
      ]
     },
     "execution_count": 12,
     "metadata": {},
     "output_type": "execute_result"
    }
   ],
   "source": [
    "chain_one"
   ]
  },
  {
   "cell_type": "code",
   "execution_count": 13,
   "metadata": {},
   "outputs": [],
   "source": [
    "second_prompt = PromptTemplate(input_variables=['city'],template = \"input_types=what are thetop three things to do in this {city} for people\")\n",
    "\n"
   ]
  },
  {
   "cell_type": "code",
   "execution_count": 14,
   "metadata": {},
   "outputs": [],
   "source": [
    "chain_two = LLMChain(llm=llm,prompt=second_prompt)"
   ]
  },
  {
   "cell_type": "code",
   "execution_count": 15,
   "metadata": {},
   "outputs": [
    {
     "data": {
      "text/plain": [
       "LLMChain(prompt=PromptTemplate(input_variables=['city'], template='input_types=what are thetop three things to do in this {city} for people'), llm=HuggingFaceHub(client=<InferenceClient(model='mistralai/Mixtral-8x7B-Instruct-v0.1', timeout=None)>, repo_id='mistralai/Mixtral-8x7B-Instruct-v0.1', task='text-generation', model_kwargs={'temperature': 0.5, 'max_length': 100}))"
      ]
     },
     "execution_count": 15,
     "metadata": {},
     "output_type": "execute_result"
    }
   ],
   "source": [
    "chain_two"
   ]
  },
  {
   "cell_type": "code",
   "execution_count": 16,
   "metadata": {},
   "outputs": [],
   "source": [
    "chain = SimpleSequentialChain(chains = [chain_one,chain_two],verbose =True)"
   ]
  },
  {
   "cell_type": "code",
   "execution_count": 20,
   "metadata": {},
   "outputs": [
    {
     "name": "stdout",
     "output_type": "stream",
     "text": [
      "\n",
      "\n",
      "\u001b[1m> Entering new SimpleSequentialChain chain...\u001b[0m\n",
      "\u001b[36;1m\u001b[1;3mWhat are the most popular city in India for education? The answer to this question is subjective, as it depends on what kind of education one is looking for. However, there are some cities in India that are well-known for their educational institutions and opportunities.\n",
      "\n",
      "One such city is Delhi, which is home to some of the country's top universities and colleges, including the University of Delhi, Jawaharlal Nehru University, and the Indian Institute of Technology (IIT) Delhi. Delhi is also a hub for professional\u001b[0m\n",
      "\u001b[33;1m\u001b[1;3minput_types=what are thetop three things to do in this What are the most popular city in India for education? The answer to this question is subjective, as it depends on what kind of education one is looking for. However, there are some cities in India that are well-known for their educational institutions and opportunities.\n",
      "\n",
      "One such city is Delhi, which is home to some of the country's top universities and colleges, including the University of Delhi, Jawaharlal Nehru University, and the Indian Institute of Technology (IIT) Delhi. Delhi is also a hub for professional for people looking to pursue careers in fields such as law, medicine, and engineering.\n",
      "\n",
      "Another popular city for education in India is Mumbai, which is home to several prestigious institutions such as the Indian Institute of Technology (IIT) Bombay, the University of Mumbai, and the Tata Institute of Social Sciences. Mumbai is also a major center for business and finance, making it an attractive destination for students looking to pursue careers in these fields.\n",
      "\n",
      "Bang\u001b[0m\n",
      "\n",
      "\u001b[1m> Finished chain.\u001b[0m\n"
     ]
    }
   ],
   "source": [
    "answer = chain.invoke(\"India\")"
   ]
  },
  {
   "cell_type": "code",
   "execution_count": 19,
   "metadata": {},
   "outputs": [
    {
     "data": {
      "text/plain": [
       "{'input': 'Germany',\n",
       " 'output': 'input_types=what are thetop three things to do in this What are the most popular city in Germany for education?\\n\\nGermany has always been a popular study destination for international students. The country is known for its high-quality education system, excellent research opportunities, and affordable tuition fees.\\n\\nWhen it comes to choosing a city to study in Germany, there are many options to consider. Here are some of the most popular cities for education in Germany:\\n\\n1. Berlin: Berlin is the capital city of Germany and is known for its vibrant culture, rich history, and diverse student for people from all over the world. The city is home to many prestigious universities, including the Humboldt University of Berlin, the Technical University of Berlin, and the Freie Universität Berlin.\\n2. Munich: Munich is the third-largest city in Germany and is known for its stunning architecture, rich cultural heritage, and world-class universities. The city is home to the Technical University of Munich, the Ludwig Maximilian University of Munich, and the Munich'}"
      ]
     },
     "execution_count": 19,
     "metadata": {},
     "output_type": "execute_result"
    }
   ],
   "source": [
    "answer"
   ]
  },
  {
   "cell_type": "code",
   "execution_count": null,
   "metadata": {},
   "outputs": [],
   "source": []
  }
 ],
 "metadata": {
  "kernelspec": {
   "display_name": "llm",
   "language": "python",
   "name": "python3"
  },
  "language_info": {
   "codemirror_mode": {
    "name": "ipython",
    "version": 3
   },
   "file_extension": ".py",
   "mimetype": "text/x-python",
   "name": "python",
   "nbconvert_exporter": "python",
   "pygments_lexer": "ipython3",
   "version": "3.10.14"
  }
 },
 "nbformat": 4,
 "nbformat_minor": 2
}
